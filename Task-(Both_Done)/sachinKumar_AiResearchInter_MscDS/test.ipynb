{
 "cells": [
  {
   "cell_type": "markdown",
   "id": "8fdc2fda",
   "metadata": {},
   "source": [
    "Text Summarization"
   ]
  },
  {
   "cell_type": "code",
   "execution_count": 3,
   "id": "bbfa281a",
   "metadata": {},
   "outputs": [
    {
     "name": "stdout",
     "output_type": "stream",
     "text": [
      "Text Summary:\n",
      " Artificial intelligence (AI) has the potential to revolutionize various industries worldwide. Healthcare, finance, and education are among some sectors that have already started leveraging AI for improved diagnostics, automated trading, personalized learning, and more. However, there are challenges related to data privacy and algorithmic bias that need to be addressed. \n"
     ]
    }
   ],
   "source": [
    "import ollama\n",
    "# Sample text for summarization\n",
    "text = \"\"\"\n",
    "Artificial intelligence is transforming industries worldwide. In healthcare, AI improves diagnostics and predicts patient outcomes. Finance uses AI for automated trading and fraud detection. Education benefits from personalized learning platforms powered by AI algorithms. However, challenges like data privacy and algorithmic bias remain critical concerns.\n",
    "\"\"\"\n",
    "\n",
    "try:\n",
    "    # Summarize text using LLaVA\n",
    "    response = ollama.chat(\n",
    "        model=\"llava:7b\",\n",
    "        messages=[\n",
    "            {\n",
    "                \"role\": \"user\",\n",
    "                \"content\": f\"Summarize the following text in exactly three Lines:\\n\\n{text}\"\n",
    "            }\n",
    "        ]\n",
    "    )\n",
    "    print(\"Text Summary:\")\n",
    "    print(response['message']['content'])\n",
    "except Exception as e:\n",
    "    print(f\"Error summarizing text: {e}\")"
   ]
  },
  {
   "cell_type": "markdown",
   "id": "27fa57ac",
   "metadata": {},
   "source": [
    "Extract Keywords"
   ]
  },
  {
   "cell_type": "code",
   "execution_count": 2,
   "id": "b208c382",
   "metadata": {},
   "outputs": [
    {
     "name": "stdout",
     "output_type": "stream",
     "text": [
      "Keywords:\n",
      "['Artificial intelligence', 'healthcare', 'diagnostics', 'patient outcomes', 'finance']\n"
     ]
    }
   ],
   "source": [
    "# Use the same text for keyword extraction\n",
    "try:\n",
    "    # Extract keywords using LLaVA\n",
    "    response = ollama.chat(\n",
    "        model=\"llava:7b\",\n",
    "        messages=[\n",
    "            {\n",
    "                \"role\": \"user\",\n",
    "                \"content\": f\"Extract exactly five relevant keywords from the following text:\\n\\n{text}\"\n",
    "            }\n",
    "        ]\n",
    "    )\n",
    "    # Basic parsing of response\n",
    "    keywords = response['message']['content'].split(\",\")[:5]\n",
    "    keywords = [k.strip() for k in keywords]\n",
    "    print(\"Keywords:\")\n",
    "    print(keywords)\n",
    "except Exception as e:\n",
    "    print(f\"Error extracting keywords: {e}\")"
   ]
  }
 ],
 "metadata": {
  "kernelspec": {
   "display_name": "Python 3",
   "language": "python",
   "name": "python3"
  },
  "language_info": {
   "codemirror_mode": {
    "name": "ipython",
    "version": 3
   },
   "file_extension": ".py",
   "mimetype": "text/x-python",
   "name": "python",
   "nbconvert_exporter": "python",
   "pygments_lexer": "ipython3",
   "version": "3.12.0"
  }
 },
 "nbformat": 4,
 "nbformat_minor": 5
}
